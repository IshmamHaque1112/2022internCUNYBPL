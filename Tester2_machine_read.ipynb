{
 "cells": [
  {
   "cell_type": "code",
   "execution_count": 104,
   "id": "6e3d24e7",
   "metadata": {},
   "outputs": [
    {
     "name": "stdout",
     "output_type": "stream",
     "text": [
      "Requirement already satisfied: pytesseract in c:\\users\\iahaq\\appdata\\roaming\\python\\python38\\site-packages (0.3.9)\n",
      "Requirement already satisfied: packaging>=21.3 in c:\\users\\iahaq\\appdata\\roaming\\python\\python38\\site-packages (from pytesseract) (21.3)\n",
      "Requirement already satisfied: Pillow>=8.0.0 in c:\\programdata\\anaconda3\\lib\\site-packages (from pytesseract) (8.2.0)\n",
      "Requirement already satisfied: pyparsing!=3.0.5,>=2.0.2 in c:\\programdata\\anaconda3\\lib\\site-packages (from packaging>=21.3->pytesseract) (2.4.7)\n",
      "Requirement already satisfied: opencv-python in c:\\users\\iahaq\\appdata\\roaming\\python\\python38\\site-packages (4.6.0.66)\n",
      "Requirement already satisfied: numpy>=1.17.3 in c:\\programdata\\anaconda3\\lib\\site-packages (from opencv-python) (1.20.1)\n",
      "Requirement already satisfied: tesseract in c:\\users\\iahaq\\appdata\\roaming\\python\\python38\\site-packages (0.1.3)\n"
     ]
    }
   ],
   "source": [
    "from PIL import Image\n",
    "import numpy as np\n",
    "!pip install --user pytesseract\n",
    "!pip install --user opencv-python\n",
    "!pip install --user tesseract\n",
    "import pytesseract\n",
    "import cv2\n",
    "import matplotlib.pyplot as plt\n",
    "import matplotlib.image as mpimg\n",
    "pytesseract.pytesseract.tesseract_cmd = r'C:\\Program Files\\Tesseract-OCR/tesseract.exe'"
   ]
  },
  {
   "cell_type": "code",
   "execution_count": 105,
   "id": "109a84ac",
   "metadata": {},
   "outputs": [],
   "source": [
    "image1 = cv2.imread(cv2.samples.findFile('pictures/newex2.PNG'))\n",
    "cImage1 = np.copy(image1) #image to draw lines\n",
    "cv2.imshow(\"newex2\", image1) #name the window as \"image\"\n",
    "cv2.waitKey(0)\n",
    "cv2.destroyWindow(\"newex2\") #close the window"
   ]
  },
  {
   "cell_type": "code",
   "execution_count": 106,
   "id": "d63c46dc",
   "metadata": {},
   "outputs": [],
   "source": [
    "gray = cv2.cvtColor(image1, cv2.COLOR_BGR2GRAY)\n",
    "cv2.imshow(\"gray\", gray)\n",
    "cv2.waitKey(0)\n",
    "cv2.destroyWindow(\"gray\")\n",
    "canny = cv2.Canny(gray, 50, 150)\n",
    "cv2.imshow(\"canny\", canny)\n",
    "cv2.waitKey(0)\n",
    "cv2.destroyWindow(\"canny\")"
   ]
  },
  {
   "cell_type": "code",
   "execution_count": 107,
   "id": "b36e8122",
   "metadata": {},
   "outputs": [],
   "source": [
    "# cv.HoughLinesP(image, rho, theta, threshold[, lines[, minLineLength[, maxLineGap]]]) → lines\n",
    "rho = 1\n",
    "theta = np.pi/180\n",
    "threshold = 50\n",
    "minLinLength = 350\n",
    "maxLineGap = 6\n",
    "linesP = cv2.HoughLinesP(canny, rho , theta, threshold, None, minLinLength, maxLineGap)"
   ]
  },
  {
   "cell_type": "code",
   "execution_count": 108,
   "id": "27dcabfc",
   "metadata": {},
   "outputs": [],
   "source": [
    "def overlapping_filter(lines, sorting_index):\n",
    "    filtered_lines = []\n",
    "    \n",
    "    lines = sorted(lines, key=lambda lines: lines[sorting_index])\n",
    "    separation = 5\n",
    "    for i in range(len(lines)):\n",
    "            l_curr = lines[i]\n",
    "            if(i>0):\n",
    "                l_prev = lines[i-1]\n",
    "                if ( (l_curr[sorting_index] - l_prev[sorting_index]) > separation):\n",
    "                    filtered_lines.append(l_curr)\n",
    "            else:\n",
    "                filtered_lines.append(l_curr)\n",
    "                \n",
    "    return filtered_lines\n",
    "def is_vertical(line):\n",
    "    return line[0]==line[2]\n",
    "def is_horizontal(line):\n",
    "    return line[1]==line[3]"
   ]
  },
  {
   "cell_type": "code",
   "execution_count": 109,
   "id": "4f922cab",
   "metadata": {},
   "outputs": [],
   "source": [
    "horizontal_lines = []\n",
    "vertical_lines = []\n",
    "    \n",
    "if linesP is not None:\n",
    "    for i in range(0, len(linesP)):\n",
    "        l = linesP[i][0]\n",
    "        if (is_vertical(l)): \n",
    "            vertical_lines.append(l)\n",
    "                \n",
    "        elif (is_horizontal(l)):\n",
    "            horizontal_lines.append(l)\n",
    "    horizontal_lines = overlapping_filter(horizontal_lines, 1)\n",
    "    vertical_lines = overlapping_filter(vertical_lines, 0)\n",
    "for i, line in enumerate(horizontal_lines):\n",
    "    cv2.line(cImage1, (line[0], line[1]), (line[2], line[3]), (0,255,0), 3, cv2.LINE_AA)\n",
    "    cv2.putText(cImage1, str(i) + \"h\", (line[0] + 5, line[1]), cv2.FONT_HERSHEY_SIMPLEX, 0.5, (0, 0, 0), 1, cv2.LINE_AA)                      \n",
    "for i, line in enumerate(vertical_lines):\n",
    "    cv2.line(cImage1, (line[0], line[1]), (line[2], line[3]), (0,0,255), 3, cv2.LINE_AA)\n",
    "    cv2.putText(cImage1, str(i) + \"v\", (line[0], line[1] + 5), cv2.FONT_HERSHEY_SIMPLEX, 0.5, (0, 0, 0), 1, cv2.LINE_AA)          \n",
    "cv2.imshow(\"with_line\", cImage1)\n",
    "cv2.waitKey(0)\n",
    "cv2.destroyWindow(\"with_line\") #close the window"
   ]
  },
  {
   "cell_type": "code",
   "execution_count": 110,
   "id": "c66fe1e8",
   "metadata": {},
   "outputs": [],
   "source": [
    "## set keywords\n",
    "keywords = ['spacetype','spacearea','equipmentpowerdensity','modelingparameterschedule','baselinemodeledidentically','supportingdoclocation','modeloutputreport'] \n",
    "dict1 = {}\n",
    "for keyword in keywords:\n",
    "  dict1[keyword] = []\n",
    "## set counter for image indexing\n",
    "counter = 0\n",
    "    \n",
    "## set line index\n",
    "first_line_index = 2\n",
    "last_line_index = 14\n",
    "def get_cropped_image(image, x, y, w, h):\n",
    "    cropped_image = image[ y:y+h , x:x+w ]\n",
    "    return cropped_image\n",
    "def get_ROI(image, horizontal, vertical, left_line_index, right_line_index, top_line_index, bottom_line_index, offset=4):\n",
    "    x1 = vertical[left_line_index][2] + offset\n",
    "    y1 = horizontal[top_line_index][3] + offset\n",
    "    x2 = vertical[right_line_index][2] - offset\n",
    "    y2 = horizontal[bottom_line_index][3] - offset\n",
    "    \n",
    "    w = x2 - x1\n",
    "    h = y2 - y1\n",
    "    \n",
    "    cropped_image = get_cropped_image(image, x1, y1, w, h)\n",
    "    \n",
    "    return cropped_image, (x1, y1, w, h)"
   ]
  },
  {
   "cell_type": "code",
   "execution_count": 111,
   "id": "5d02ddd6",
   "metadata": {},
   "outputs": [],
   "source": [
    "def draw_text(src, x, y, w, h, text):\n",
    "    cFrame = np.copy(src)\n",
    "    cv2.rectangle(cFrame, (x, y), (x+w, y+h), (255, 0, 0), 2)\n",
    "    cv2.putText(cFrame, \"text: \" + text, (50, 50), cv2.FONT_HERSHEY_SIMPLEX, 2, (0, 0, 0), 5, cv2.LINE_AA)\n",
    "    \n",
    "    return cFrame\n",
    "def detect(cropped_frame, is_number = False):\n",
    "    if (is_number):\n",
    "        text = pytesseract.image_to_string(cropped_frame, lang='eng',\n",
    "                                           config ='--psm 10')\n",
    "    else:\n",
    "        text = pytesseract.image_to_string(cropped_frame, lang='eng',\n",
    "                                           config ='--psm 10')        \n",
    "        \n",
    "    return text"
   ]
  },
  {
   "cell_type": "code",
   "execution_count": 112,
   "id": "10eebfb4",
   "metadata": {},
   "outputs": [
    {
     "name": "stdout",
     "output_type": "stream",
     "text": [
      "Start detecting text...\n",
      "15\n"
     ]
    }
   ],
   "source": [
    "counter = 0\n",
    "print(\"Start detecting text...\")\n",
    "(thresh, bw) = cv2.threshold(gray, 100, 255, cv2.THRESH_BINARY)\n",
    "print(bottom_line_index)\n",
    "for i in range(first_line_index, last_line_index):\n",
    "    for j, keyword in enumerate(keywords):\n",
    "        counter += 1\n",
    "            \n",
    "        left_line_index = j\n",
    "        right_line_index = j+1\n",
    "        top_line_index = i\n",
    "        bottom_line_index = i+1\n",
    "            \n",
    "        cropped_image, (x,y,w,h) = get_ROI(bw, horizontal_lines, vertical_lines, left_line_index, right_line_index, top_line_index, bottom_line_index)\n",
    "            \n",
    "        if (keywords[j]=='spacetype'):\n",
    "           text = detect(cropped_image)\n",
    "           dict1[keyword].append(text)\n",
    "         \n",
    "        else:\n",
    "            text = detect(cropped_image, is_number=True)\n",
    "            dict1[keyword].append(text)\n",
    "        image_with_text = draw_text(image1, x, y, w, h, text)"
   ]
  },
  {
   "cell_type": "code",
   "execution_count": 113,
   "id": "9f0d7893",
   "metadata": {},
   "outputs": [
    {
     "data": {
      "text/plain": [
       "{'spacetype': ['Corridor\\n',\n",
       "  'Residential\\n',\n",
       "  'Retail\\n',\n",
       "  'Amenity\\n',\n",
       "  'Mechanical!\\n',\n",
       "  'Stairwell\\n',\n",
       "  'Trash\\n',\n",
       "  'Unconditioned\\n',\n",
       "  'NiA\\n',\n",
       "  'NiA\\n',\n",
       "  'NiA\\n',\n",
       "  'NiA\\n'],\n",
       " 'spacearea': ['19.363\\n',\n",
       "  '273,654\\n',\n",
       "  '16.315\\n',\n",
       "  '14.698\\n',\n",
       "  '48 906\\n',\n",
       "  '17.917\\n',\n",
       "  '8,975\\n',\n",
       "  '66,871\\n',\n",
       "  'N/A\\n',\n",
       "  'NIA\\n',\n",
       "  'NiA\\n',\n",
       "  'NIA\\n'],\n",
       " 'equipmentpowerdensity': ['fe}\\n',\n",
       "  '1.0\\n',\n",
       "  '1.35\\n',\n",
       "  '1.0\\n',\n",
       "  '02\\n',\n",
       "  'fa)\\n',\n",
       "  'O2\\n',\n",
       "  'oO\\n',\n",
       "  'NA\\n',\n",
       "  'NA\\n',\n",
       "  'NIA\\n',\n",
       "  'NA\\n'],\n",
       " 'modelingparameterschedule': ['Circulation Schedule\\n',\n",
       "  'Residential Schedule\\n',\n",
       "  'Retail Schedule\\n',\n",
       "  'Amenity Schedule:\\n',\n",
       "  'Circulation Schedule\\n',\n",
       "  'Circulation Schedule\\n',\n",
       "  'Circulation Schedule\\n',\n",
       "  'No Schedule\\n',\n",
       "  'N/A\\n',\n",
       "  'N/A\\n',\n",
       "  'NIA\\n',\n",
       "  'N/A\\n'],\n",
       " 'baselinemodeledidentically': ['Yos\\n',\n",
       "  'Yes\\n',\n",
       "  'Yes\\n',\n",
       "  'Yes\\n',\n",
       "  'Yes\\n',\n",
       "  'Yes\\n',\n",
       "  'Yes\\n',\n",
       "  'Yes\\n',\n",
       "  'NiA\\n',\n",
       "  'N/A\\n',\n",
       "  'NA\\n',\n",
       "  'NIA\\n'],\n",
       " 'supportingdoclocation': ['LV-B\\n',\n",
       "  'LV-B\\n',\n",
       "  'LV-B\\n',\n",
       "  'LV-B\\n',\n",
       "  'LV-B\\n',\n",
       "  'LV-B\\n',\n",
       "  'LV-B\\n',\n",
       "  'LV-B\\n',\n",
       "  'N/A\\n',\n",
       "  'NiA\\n',\n",
       "  'NiA\\n',\n",
       "  'NIA\\n'],\n",
       " 'modeloutputreport': ['LV-B\\n',\n",
       "  'LV-B\\n',\n",
       "  'LV-B\\n',\n",
       "  'LV-B\\n',\n",
       "  'LV-B\\n',\n",
       "  'LV-B\\n',\n",
       "  'LV-B\\n',\n",
       "  'LV-B\\n',\n",
       "  'NVA\\n',\n",
       "  'NVA\\n',\n",
       "  'N/A\\n',\n",
       "  'N/A\\n']}"
      ]
     },
     "execution_count": 113,
     "metadata": {},
     "output_type": "execute_result"
    }
   ],
   "source": [
    "dict1"
   ]
  },
  {
   "cell_type": "code",
   "execution_count": null,
   "id": "fb57c085",
   "metadata": {},
   "outputs": [],
   "source": []
  }
 ],
 "metadata": {
  "kernelspec": {
   "display_name": "Python 3",
   "language": "python",
   "name": "python3"
  },
  "language_info": {
   "codemirror_mode": {
    "name": "ipython",
    "version": 3
   },
   "file_extension": ".py",
   "mimetype": "text/x-python",
   "name": "python",
   "nbconvert_exporter": "python",
   "pygments_lexer": "ipython3",
   "version": "3.8.8"
  }
 },
 "nbformat": 4,
 "nbformat_minor": 5
}
